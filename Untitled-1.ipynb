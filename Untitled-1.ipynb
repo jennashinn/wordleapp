{
 "cells": [
  {
   "cell_type": "code",
   "execution_count": 1,
   "id": "c39ad228",
   "metadata": {},
   "outputs": [],
   "source": [
    "import pandas as pd"
   ]
  },
  {
   "cell_type": "code",
   "execution_count": 2,
   "id": "f392a1cc",
   "metadata": {},
   "outputs": [
    {
     "data": {
      "text/plain": [
       "14855"
      ]
     },
     "execution_count": 2,
     "metadata": {},
     "output_type": "execute_result"
    }
   ],
   "source": [
    "with open('data/accepted_words.txt', 'r') as file:\n",
    "    full_word_list = [line.strip() for line in file]\n",
    "\n",
    "len(full_word_list)"
   ]
  },
  {
   "cell_type": "code",
   "execution_count": 3,
   "id": "5ff0305d",
   "metadata": {},
   "outputs": [
    {
     "data": {
      "text/plain": [
       "6111"
      ]
     },
     "execution_count": 3,
     "metadata": {},
     "output_type": "execute_result"
    }
   ],
   "source": [
    "import nltk\n",
    "from nltk.corpus import words\n",
    "\n",
    "try:\n",
    "    nltk.data.find('corpora/words')\n",
    "except LookupError:\n",
    "    nltk.download('words')\n",
    "\n",
    "# Get English dictionary\n",
    "english_words = set(words.words())\n",
    "\n",
    "\n",
    "filtered_words = [word for word in full_word_list if word in english_words]\n",
    "\n",
    "len(filtered_words)\n"
   ]
  },
  {
   "cell_type": "code",
   "execution_count": 4,
   "id": "a15fe2d7",
   "metadata": {},
   "outputs": [],
   "source": [
    "original_set = set(full_word_list)\n",
    "filtered_set = set(filtered_words)"
   ]
  },
  {
   "cell_type": "code",
   "execution_count": 5,
   "id": "8f84d53e",
   "metadata": {},
   "outputs": [
    {
     "name": "stdout",
     "output_type": "stream",
     "text": [
      "True\n",
      "False\n"
     ]
    }
   ],
   "source": [
    "\n",
    "word_to_check = \"aargh\"\n",
    "print(word_to_check in original_set)   # True or False\n",
    "print(word_to_check in filtered_set)   # True or False\n"
   ]
  },
  {
   "cell_type": "code",
   "execution_count": 17,
   "id": "0d547169",
   "metadata": {},
   "outputs": [
    {
     "data": {
      "text/plain": [
       "15921"
      ]
     },
     "execution_count": 17,
     "metadata": {},
     "output_type": "execute_result"
    }
   ],
   "source": [
    "with open('words_alpha.txt') as f:\n",
    "    all_words = {line.strip().lower() for line in f}\n",
    "\n",
    "# Get only 5-letter real words\n",
    "five_letter_words = {word for word in all_words if len(word) == 5}\n",
    "len(five_letter_words)"
   ]
  },
  {
   "cell_type": "code",
   "execution_count": 24,
   "id": "fea63366",
   "metadata": {},
   "outputs": [
    {
     "name": "stdout",
     "output_type": "stream",
     "text": [
      "Real: 10628 words\n",
      "Not Real: 4227 words\n"
     ]
    }
   ],
   "source": [
    "valid_set = five_letter_words  # or wordle_words or unix_dict\n",
    "your_list = full_word_list\n",
    "\n",
    "real_words = [word for word in your_list if word in valid_set]\n",
    "not_real_words = [word for word in your_list if word not in valid_set]\n",
    "\n",
    "print(\"Real:\", len(real_words), \"words\")\n",
    "print(\"Not Real:\", len(not_real_words), \"words\")"
   ]
  },
  {
   "cell_type": "code",
   "execution_count": 25,
   "id": "eaf790f7",
   "metadata": {},
   "outputs": [
    {
     "data": {
      "text/plain": [
       "['aahed',\n",
       " 'aalii',\n",
       " 'aargh',\n",
       " 'abaca',\n",
       " 'abaci',\n",
       " 'aback',\n",
       " 'abaft',\n",
       " 'abaka',\n",
       " 'abamp',\n",
       " 'aband']"
      ]
     },
     "execution_count": 25,
     "metadata": {},
     "output_type": "execute_result"
    }
   ],
   "source": [
    "real_words[:10]"
   ]
  },
  {
   "cell_type": "code",
   "execution_count": 26,
   "id": "98bef129",
   "metadata": {},
   "outputs": [],
   "source": [
    "with open('data/filtered_words.txt', 'w') as f:\n",
    "    for word in real_words:\n",
    "        f.write(word + '\\n')"
   ]
  }
 ],
 "metadata": {
  "kernelspec": {
   "display_name": ".wordle-venv (3.13.0)",
   "language": "python",
   "name": "python3"
  },
  "language_info": {
   "codemirror_mode": {
    "name": "ipython",
    "version": 3
   },
   "file_extension": ".py",
   "mimetype": "text/x-python",
   "name": "python",
   "nbconvert_exporter": "python",
   "pygments_lexer": "ipython3",
   "version": "3.13.0"
  }
 },
 "nbformat": 4,
 "nbformat_minor": 5
}
